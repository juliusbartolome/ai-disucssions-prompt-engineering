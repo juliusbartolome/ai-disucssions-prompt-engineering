{
 "cells": [
  {
   "cell_type": "markdown",
   "metadata": {},
   "source": [
    "# Prompting Techniques"
   ]
  },
  {
   "cell_type": "code",
   "execution_count": 2,
   "metadata": {},
   "outputs": [
    {
     "name": "stdout",
     "output_type": "stream",
     "text": [
      "gpt-3.5-turbo\n"
     ]
    }
   ],
   "source": [
    "import os\n",
    "import requests\n",
    "\n",
    "API_KEY = os.environ.get(\"OPENAI_API_KEY\")\n",
    "MODEL = os.environ.get(\"OPENAI_MODEL\")\n",
    "\n",
    "if not API_KEY or not MODEL:\n",
    "    raise Exception(\"Environment variables OPENAI_API_KEY and OPENAI_MODEL must be set.\")\n",
    "\n",
    "API_URL = f\"https://api.openai.com/v1/chat/completions\"\n",
    "print(MODEL)\n",
    "\n",
    "headers = {\n",
    "  \"Authorization\": f\"Bearer {API_KEY}\",\n",
    "  \"Content-Type\": \"application/json\"\n",
    "}\n",
    "\n",
    "def query(prompt):\n",
    "  request_json = {\n",
    "    \"model\": MODEL,\n",
    "    \"messages\": [\n",
    "      {\n",
    "        \"role\": \"user\",\n",
    "        \"content\": prompt\n",
    "      }\n",
    "    ]\n",
    "  }\n",
    "\n",
    "  response = requests.post(API_URL, headers=headers, json=request_json)\n",
    "  response_json = response.json()\n",
    "  # print(response_json)\n",
    "  return response_json[\"choices\"][0][\"message\"][\"content\"]"
   ]
  },
  {
   "cell_type": "markdown",
   "metadata": {},
   "source": [
    "## 1. Zero-Shot"
   ]
  },
  {
   "cell_type": "markdown",
   "metadata": {},
   "source": [
    "**Zero-shot prompting** is similar to asking a really clever robot to answer a question it's never heard before, without showing it any examples or teaching it about that specific question beforehand. It's like a test to see how well the robot can understand and figure things out on its own without getting a direct lesson on a particular topic.\n",
    "\n",
    "**Examples:**\n",
    "- **Question:** \"What is the capital of France?\" \n",
    "  - **Answer:** Paris\n",
    "- **Question:** \"Who is the president of the United States?\" \n",
    "  - **Answer:** Joe Biden\n",
    "\n",
    "In zero-shot prompting, the robot relies on what it already knows and its ability to make logical connections to provide accurate answers to new and unfamiliar questions, even if it hasn't been specifically trained on those questions before.\n"
   ]
  },
  {
   "cell_type": "code",
   "execution_count": 3,
   "metadata": {},
   "outputs": [
    {
     "name": "stdout",
     "output_type": "stream",
     "text": [
      "As of my last update in October 2021, the president of the United States is Joe Biden.\n"
     ]
    }
   ],
   "source": [
    "text_prompt = \"Who is the president of the United States?\"\n",
    "\n",
    "output_text = query(text_prompt)\n",
    "\n",
    "print(output_text)"
   ]
  },
  {
   "cell_type": "markdown",
   "metadata": {},
   "source": [
    "## 2. Few-Shot"
   ]
  },
  {
   "cell_type": "markdown",
   "metadata": {},
   "source": [
    "**Few-shot prompting** involves giving the model a bit of context or examples to aid its understanding of a task. Let's take an example where the model needs to answer questions about adding and subtracting numbers. The few-shot prompt could be structured like this:\n",
    "\n",
    "**Example 1: Cat Sounds**\n",
    "  - **Context:** Cats are small, furry animals that people often keep as pets.\n",
    "  - **Question:** What sound do cats make?\n",
    "  - **Answer:** Meow\n",
    "\n",
    "**Example 2: Arithmetic**\n",
    "  - **Context:**\n",
    "    1. 2 + 3 = 5\n",
    "    2. 8 - 4 = 4\n",
    "  - **Question:** What is the result of 6 + 2?\n",
    "  - **Answer:** 8\n",
    "\n",
    "In few-shot prompting, the model receives a small \"shot\" of information to enhance its ability to understand and answer questions accurately, even on topics it hasn't been extensively trained on."
   ]
  },
  {
   "cell_type": "code",
   "execution_count": 4,
   "metadata": {},
   "outputs": [
    {
     "name": "stdout",
     "output_type": "stream",
     "text": [
      "Roses are typically red.\n"
     ]
    }
   ],
   "source": [
    "text_prompt = \"\"\"\n",
    "**Context:**\n",
    "  - Roses are red.\n",
    "  - The sky is blue.\n",
    "  - Leaves are typically green.\n",
    "\n",
    "**Question: **What color are roses?\n",
    "\"\"\"\n",
    "\n",
    "output_text = query(text_prompt)\n",
    "print(output_text)"
   ]
  },
  {
   "cell_type": "markdown",
   "metadata": {},
   "source": [
    "## 3. Chain-of-Thought"
   ]
  },
  {
   "cell_type": "markdown",
   "metadata": {},
   "source": [
    "**Chain-of-Thought prompting** focuses on facilitating a logical progression of thoughts or responses by guiding the model through a sequence of related prompts. It's akin to a conversation where each prompt builds upon the previous one, fostering a coherent and extended response. Let's delve deeper with examples:\n",
    "\n",
    "### Example 1: Software Development Workflow\n",
    "\n",
    "**Prompt 1:**\n",
    "- **User:** \"Imagine you're tasked with developing a new software application. What initial steps would you take in planning the project?\"\n",
    "- **Model Response:** \"I would begin by conducting a thorough requirements analysis to understand the project scope and user needs.\"\n",
    "\n",
    "**Prompt 2:**\n",
    "- **User:** \"Great! Considering the requirements, how would you go about designing the architecture of the software?\"\n",
    "- **Model Response:** \"To design the architecture, I would identify key components, their interactions, and ensure scalability and maintainability.\"\n",
    "\n",
    "**Prompt 3:**\n",
    "- **User:** \"Nice architecture! Now, moving to implementation, how would you ensure the coding aligns with the project requirements and design?\"\n",
    "- **Model Response:** \"I would follow coding best practices, conduct code reviews, and use testing to ensure the implementation meets the specifications.\"\n",
    "\n",
    "**Prompt 4:**\n",
    "- **User:** \"Impressive! After coding, how would you approach testing and debugging to ensure the software's functionality?\"\n",
    "- **Model Response:** \"Testing involves both unit and system testing. Debugging would be iterative, addressing issues as they arise during testing phases.\"\n",
    "\n",
    "In this Chain-of-Thought Prompting example, each prompt logically progresses from project planning to architecture, implementation, and testing in the software development workflow.\n",
    "\n",
    "### Example 2: Problem Solving in Mathematics\n",
    "\n",
    "**Prompt 1:**\n",
    "- **User:** \"Let's solve a math problem. If you have five apples and give away three, how many apples do you have left?\"\n",
    "- **Model Response:** \"Starting with five apples, giving away three would leave me with two apples.\"\n",
    "\n",
    "**Prompt 2:**\n",
    "- **User:** \"Excellent! Now, if you eat one of the remaining apples, how many apples will you have?\"\n",
    "- **Model Response:** \"If I eat one of the two remaining apples, I will have one apple left.\"\n",
    "\n",
    "**Prompt 3:**\n",
    "- **User:** \"Good! Let's extend this. If each apple is divided into four equal slices, and you share half of those slices with a friend, how many slices did your friend receive?\"\n",
    "- **Model Response:** \"Each apple has four slices, so sharing half means my friend receives two slices per apple.\"\n",
    "\n",
    "**Prompt 4:**\n",
    "- **User:** \"Perfect! Lastly, if your friend returns one slice from each apple, how many slices do you end up with?\"\n",
    "- **Model Response:** \"If my friend returns one slice from each apple, I would end up with three slices in total.\"\n",
    "\n",
    "In this Chain-of-Thought Prompting example, the prompts guide the logical progression of solving a mathematical problem involving apples, slices, and sharing."
   ]
  },
  {
   "cell_type": "code",
   "execution_count": 5,
   "metadata": {},
   "outputs": [
    {
     "name": "stdout",
     "output_type": "stream",
     "text": [
      "Prompt:\n",
      "Describe your morning routine.\n",
      "\n",
      "Response:\n",
      "As an AI language model, I don't have personal experiences or routines. However, I can provide you with a general description of a morning routine that many people follow:\n",
      "\n",
      "Typically, a morning routine starts with waking up at a specific time, usually determined by personal preferences or work commitments. After waking up, many individuals start their day by stretching or doing light exercises to invigorate their bodies. The next step usually involves personal hygiene, such as brushing teeth, washing face, and taking a shower.\n",
      "\n",
      "Once the basic grooming is done, people often move on to getting dressed and preparing breakfast. This could involve choosing an outfit for the day, which might be influenced by personal style, weather conditions, or the nature of any tasks planned ahead. After that, individuals often move to the kitchen to prepare and eat breakfast, which usually consists of a variety of options like cereals, yogurt, toast, eggs, or fruits.\n",
      "\n",
      "After breakfast, people may engage in different activities depending on their schedule and priorities. This could be a combination of activities such as checking emails, planning the day ahead, meditating, reading the news, or spending time with family. Many individuals also tend to include a specific time for personal goals or hobbies, such as exercising, journaling, or practicing a musical instrument.\n",
      "\n",
      "Overall, morning routines can vary greatly from person to person, as they are influenced by factors like lifestyle, work commitments, personal preferences, and constraints imposed by time or other obligations.\n",
      "\n",
      "-------------------------------------------------------------------\n",
      "\n",
      "Prompt:\n",
      "Nice! Now, considering your daily tasks, what's the first thing you prioritize after waking up?\n",
      "\n",
      "Response:\n",
      "As an AI language model, I don't have a personal daily routine or the ability to wake up because I'm always running. However, if we're talking about general guidelines for prioritizing tasks after waking up, it varies from person to person. Some common priorities upon waking up might include:\n",
      "\n",
      "1. Hydration: Drinking a glass of water is often recommended to rehydrate after a night's sleep.\n",
      "2. Personal Hygiene: Taking a shower or brushing your teeth to freshen up and get ready for the day.\n",
      "3. Planning and Organizing: Reviewing your to-do list, setting goals, or planning out the tasks you want to accomplish for the day.\n",
      "4. Exercise: Engaging in physical activity such as stretching, yoga, or a workout to energize your body.\n",
      "5. Breakfast: Fueling your body with a healthy meal to kickstart your metabolism and provide energy for the day.\n",
      "6. Meditation or Mindfulness: Practicing mindfulness, meditation, or any relaxation technique to clear your mind and promote a sense of calmness.\n",
      "7. Prioritizing Work: If you have specific work-related tasks or obligations, focusing on them early in the morning when your mind is fresh and less distracted.\n",
      "8. Checking Emails and Notifications: Catching up on important emails, messages, and notifications to stay informed and address any urgent matters.\n",
      "9. Creative or Personal Time: Engaging in activities that bring you joy, such as reading, writing, pursuing a hobby, or spending time with loved ones.\n",
      "10. Self-care: Spending time on self-care activities like skincare, journaling, or affirmations to promote well-being and self-reflection.\n",
      "\n",
      "Keep in mind that prioritizing tasks varies depending on individual preferences, responsibilities, and the nature of one's work or personal life.\n",
      "\n",
      "-------------------------------------------------------------------\n",
      "\n",
      "Prompt:\n",
      "After completing the initial task, what typically follows in your morning routine?\n",
      "\n",
      "Response:\n",
      "After completing the initial task, my morning routine usually involves the following steps:\n",
      "\n",
      "1. Hygiene and grooming: I hop into the shower, brush my teeth, and get ready for the day. This includes activities like washing my face, applying skincare products, and getting dressed.\n",
      "\n",
      "2. Breakfast: I prioritize having a healthy breakfast to fuel my day. This can include preparing and eating meals such as oatmeal, eggs, or a smoothie. I also make sure to have a cup of tea or coffee to kick-start my energy.\n",
      "\n",
      "3. Planning and organizing: Once I'm nourished, I spend some time planning and organizing my day. I check my calendar and to-do lists, prioritize tasks, and set goals for the day. This helps me establish a clear roadmap for maximum productivity.\n",
      "\n",
      "4. Exercise or stretch: Physical activity is crucial for me, so I try to incorporate it into my morning routine. This can involve a workout session, going for a run, or even just doing some stretches and light yoga at home.\n",
      "\n",
      "5. Mindfulness practice: To focus and center myself, I engage in a mindfulness or meditation practice. This can range from a few minutes of deep breathing exercises to a longer guided meditation session. It helps me clear my mind and start the day with a positive mindset.\n",
      "\n",
      "6. Daily reading: I allocate some time to read or engage with educational content. It can be a book, articles, or even listening to a podcast. This helps me stay informed, learn new things, and expand my knowledge.\n",
      "\n",
      "7. Reviewing emails and messages: I check my emails and messages to stay updated and respond to any urgent or important communication. I aim to clear my inbox and prioritize any necessary follow-up actions.\n",
      "\n",
      "Once these steps are complete, I'm ready to dive into my work or other activities for the day with a sense of organization, focus, and well-being.\n",
      "\n",
      "-------------------------------------------------------------------\n",
      "\n",
      "Prompt:\n",
      "Excellent! Moving on, how do you ensure a smooth transition from your morning routine to the rest of the day?\n",
      "\n",
      "Response:\n",
      "Ensuring a smooth transition from the morning routine to the rest of the day can be helpful in setting a positive tone for the day. Here are a few strategies that can help:\n",
      "\n",
      "1. Prioritize and plan: Before starting your day, create a to-do list or prioritize tasks that need immediate attention. This allows you to have a clear plan of action for the rest of the day and prevents feeling overwhelmed.\n",
      "\n",
      "2. Take a moment for reflection: After completing your morning routine, find a few minutes to reflect on the goals or intentions you have for the day. This can help you set a positive mindset and focus on what you want to achieve.\n",
      "\n",
      "3. Practice mindful transitions: Instead of rushing from one activity to another, try to be present and mindful during the transitions. Take a few deep breaths, stretch or do a quick mindfulness exercise to center yourself before moving on to the next task.\n",
      "\n",
      "4. Set a positive affirmation or mantra: Choose a positive affirmation or mantra that resonates with you and repeat it to yourself during the morning routine. Reminding yourself of this affirmation throughout the day can help maintain a positive mindset and smooth transition.\n",
      "\n",
      "5. Optimize your workspace: Ensure that your workspace is organized and set up for productivity. Clear any clutter, gather necessary materials, and create a comfortable environment that supports your work.\n",
      "\n",
      "6. Take breaks: Throughout the day, take short breaks to rest and recharge. This can help you maintain focus, avoid burnout, and smoothly transition between different activities.\n",
      "\n",
      "Remember, everyone's routine may differ, so it's important to personalize these strategies to best suit your needs and preferences.\n"
     ]
    }
   ],
   "source": [
    "text_prompt = \"Describe your morning routine.\"\n",
    "output_text = query(text_prompt)\n",
    "print(\"Prompt:\")\n",
    "print(text_prompt)\n",
    "print(\"\\nResponse:\")\n",
    "print(output_text)\n",
    "\n",
    "print(\"\\n-------------------------------------------------------------------\\n\")\n",
    "\n",
    "text_prompt = \"Nice! Now, considering your daily tasks, what's the first thing you prioritize after waking up?\"\n",
    "output_text = query(text_prompt)\n",
    "print(\"Prompt:\")\n",
    "print(text_prompt)\n",
    "print(\"\\nResponse:\")\n",
    "print(output_text)\n",
    "\n",
    "print(\"\\n-------------------------------------------------------------------\\n\")\n",
    "\n",
    "text_prompt = \"After completing the initial task, what typically follows in your morning routine?\"\n",
    "output_text = query(text_prompt)\n",
    "print(\"Prompt:\")\n",
    "print(text_prompt)\n",
    "print(\"\\nResponse:\")\n",
    "print(output_text)\n",
    "\n",
    "print(\"\\n-------------------------------------------------------------------\\n\")\n",
    "\n",
    "text_prompt = \"Excellent! Moving on, how do you ensure a smooth transition from your morning routine to the rest of the day?\"\n",
    "output_text = query(text_prompt)\n",
    "print(\"Prompt:\")\n",
    "print(text_prompt)\n",
    "print(\"\\nResponse:\")\n",
    "print(output_text)"
   ]
  },
  {
   "cell_type": "markdown",
   "metadata": {},
   "source": [
    "## 4. Self-Consistency"
   ]
  },
  {
   "cell_type": "markdown",
   "metadata": {},
   "source": [
    "**Self-Consistency Prompting** is a technique designed to elicit responses that align with predefined principles or beliefs, fostering internal coherence in reasoning or behavior.\n",
    "\n",
    "### Scenario 1: Decision Making\n",
    "\n",
    "**Prompt:**\n",
    "\"You've mentioned earlier that you prioritize environmental sustainability. Given that, how do you reconcile your decision to use single-use plastic in this scenario?\"\n",
    "\n",
    "**Answer:**\n",
    "\"I recognize the inconsistency in using single-use plastic despite prioritizing environmental sustainability. In this specific instance, my decision may be influenced by convenience or limited alternatives. However, I'm actively exploring more sustainable options and aiming to reduce reliance on single-use plastics in the future.\"\n",
    "\n",
    "### Scenario 2: Incremental Accumulation\n",
    "\n",
    "**Prompt:**\n",
    "\"Q1: Laura has 14 books on her shelf. Over the weekend, she buys three new books each day. How many books does she have by the end of the weekend?\n",
    "\n",
    "A1: Laura starts with 14 books. She buys 3 books each day for two days, so she adds 3 * 2 = 6 books. After the weekend, Laura has 14 + 6 = 20 books.\n",
    "\n",
    "Q2: In a garden, there are 12 rose bushes. Every week, four more rose bushes are planted. How many rose bushes will be there after three weeks?\n",
    "\n",
    "A2: Starting with 12 rose bushes, each week adds 4 bushes. After three weeks, the total number of rose bushes will be 12 + (4 * 3) = 24.\n",
    "\n",
    "Q3: Ethan has $40. He spends $8 each day on lunch for five days. How much money does he have left after the five days?\n",
    "\n",
    "A3:\"\n",
    "\n",
    "**Answer:**\n",
    "\"Ethan begins with $40. He spends $8 each day for five days, so he subtracts 8 * 5 = $40 from his initial amount. After the five days, Ethan has $0 remaining.\"\n",
    "\n",
    "In these examples, the prompts guide the individual or system to ensure that their responses align with previously stated beliefs or principles, fostering self-consistency in their reasoning or decision-making.\n"
   ]
  },
  {
   "cell_type": "code",
   "execution_count": 6,
   "metadata": {},
   "outputs": [
    {
     "name": "stdout",
     "output_type": "stream",
     "text": [
      "Olivia spent $3 per bagel and bought 5 bagels, so she spent a total of $3 * 5 = $15.\n",
      "She started with $23 and spent $15, so she has $23 - $15 = $8 left.\n",
      "The answer is $8.\n"
     ]
    }
   ],
   "source": [
    "text_prompt = \"\"\"\n",
    "Q: Shawn has five toys. For Christmas, he got two toys each from his mom and dad. How many toys does\n",
    "he have now?\n",
    "A: He has 5 toys. He got 2 from mom, so after that he has 5 + 2 = 7 toys. Then he got 2 more from dad, so\n",
    "in total he has 7 + 2 = 9 toys. The answer is 9.\n",
    "Q: There were nine computers in the server room. Five more computers were installed each day, from\n",
    "monday to thursday. How many computers are now in the server room?\n",
    "A: There are 4 days from monday to thursday. 5 computers were added each day. That means in total 4 * 5 =\n",
    "20 computers were added. There were 9 computers in the beginning, so now there are 9 + 20 = 29 computers.\n",
    "The answer is 29.\n",
    "Q: Olivia has $23. She bought five bagels for $3 each. How much money does she have left?\n",
    "A:\n",
    "\"\"\"\n",
    "\n",
    "output_text = query(text_prompt)\n",
    "print(output_text)"
   ]
  },
  {
   "cell_type": "markdown",
   "metadata": {},
   "source": [
    "## 5. General Knowledge"
   ]
  },
  {
   "cell_type": "markdown",
   "metadata": {},
   "source": [
    "**Generated Knowledge prompting** involves asking questions or providing prompts that encourage the model or individual to utilize their existing knowledge to generate responses beyond the explicit information given. The goal is to prompt creative or insightful responses that leverage the internal knowledge base.\n",
    "\n",
    "### Scenario 1: Abstract Concept\n",
    "\n",
    "- **Prompt:** \"Explain the concept of time as if you were teaching it to someone who has never experienced it before.\"\n",
    "- **Objective:** Encourages the model to generate knowledge-based explanations about the abstract concept of time.\n",
    "- **Answer:** \"Time is a dimension that allows events to be ordered from the past through the present and into the future. It is the progression of moments, providing a framework for measuring durations and organizing our experiences.\"\n",
    "\n",
    "### Scenario 2: Historical Event\n",
    "\n",
    "- **Prompt:** \"Describe an alternate outcome for a significant historical event and speculate on the potential consequences.\"\n",
    "- **Objective:** Prompts the model to use its historical knowledge to generate a plausible alternate scenario and project potential outcomes.\n",
    "- **Answer:** \"In an alternate outcome of World War II, if the Allies had not successfully executed the D-Day invasion, Nazi Germany might have prolonged its hold on Western Europe. The consequences could include a different post-war power dynamic and potential long-term geopolitical shifts.\"\n",
    "\n",
    "In these examples, Generated Knowledge Prompting encourages the model to go beyond specific data points and generate responses based on its broader understanding or knowledge.\n"
   ]
  },
  {
   "cell_type": "code",
   "execution_count": 7,
   "metadata": {},
   "outputs": [
    {
     "name": "stdout",
     "output_type": "stream",
     "text": [
      "The 'try-catch' block in C# programming is used to handle exceptions that may occur during the execution of a code block. It allows developers to catch and handle errors, preventing them from crashing the program or producing unexpected results.\n",
      "\n",
      "The purpose of the 'try' block is to enclose the potentially problematic code that may throw an exception. If an exception occurs within the 'try' block, it is immediately caught by the corresponding 'catch' block. It provides a way to gracefully handle the exception by executing alternative code or logging the error, rather than abruptly terminating the program.\n",
      "\n",
      "Here's an example scenario where implementing the 'try-catch' block is beneficial:\n",
      "\n",
      "Suppose we have a function that reads data from a file and performs some calculations. In normal circumstances, the file is expected to be present and have the correct format. However, if the file is not found or has incorrect data, an exception may occur.\n",
      "\n",
      "```csharp\n",
      "try\n",
      "{\n",
      "    // Code that reads data from the file and performs calculations\n",
      "}\n",
      "catch (FileNotFoundException ex)\n",
      "{\n",
      "    // Code to handle the case when the file is not found\n",
      "    Console.WriteLine(\"File not found: \" + ex.FileName);\n",
      "}\n",
      "catch (FormatException ex)\n",
      "{\n",
      "    // Code to handle the case when the file has incorrect data format\n",
      "    Console.WriteLine(\"Incorrect data format: \" + ex.Message);\n",
      "}\n",
      "catch (Exception ex)\n",
      "{\n",
      "    // Code to handle any other exceptions occurred within the try block\n",
      "    Console.WriteLine(\"An error occurred: \" + ex.Message);\n",
      "}\n",
      "```\n",
      "\n",
      "In this example, the 'try-catch' block is used to handle different types of exceptions, such as 'FileNotFoundException' and 'FormatException'. If the file is not found, the corresponding 'catch' block will execute, displaying an appropriate error message. Similarly, if the file has incorrect data format, the second 'catch' block will handle it. Additionally, the 'catch (Exception ex)' block acts as a fallback to handle any other unexpected exceptions that may occur.\n",
      "\n",
      "By implementing the 'try-catch' block, the program can gracefully handle unexpected exceptions, ensuring a better user experience and preventing crashes.\n"
     ]
    }
   ],
   "source": [
    "text_prompt = \"\"\"\n",
    "Explain the purpose and usage of the 'try-catch' block in C# programming. Provide an example scenario where implementing 'try-catch' is beneficial.\n",
    "\"\"\"\n",
    "\n",
    "output_text = query(text_prompt)\n",
    "print(output_text)"
   ]
  },
  {
   "cell_type": "markdown",
   "metadata": {},
   "source": [
    "## 6. Prompt Chaining"
   ]
  },
  {
   "cell_type": "markdown",
   "metadata": {},
   "source": [
    "**Prompt Chaining** involves guiding a model or individual through a sequence of related prompts to generate an extended and coherent response. Each prompt builds upon the previous one, creating a logical and connected chain of thought.\n",
    "\n",
    "### Scenario 1: Planning a Vacation\n",
    "\n",
    "   - **Prompt 1:** \"Imagine you're planning a vacation to a tropical island. What factors would you consider when choosing the destination?\"\n",
    "   - **Prompt 2:** \"Great! Now, assuming you've chosen a beach destination, what activities would you plan for your vacation?\"\n",
    "   - **Prompt 3:** \"Excellent! After deciding on activities, how would you go about finding accommodation near the beach?\"\n",
    "   - **Prompt 4:** \"Final step! What essential items would you pack for your tropical island vacation?\"\n",
    "\n",
    "### Scenario 2: Software Development Project\n",
    "\n",
    "   - **Prompt 1:** \"You're tasked with developing a new software project. What initial steps would you take in the planning phase?\"\n",
    "   - **Prompt 2:** \"Good start! Now, how would you approach designing the user interface for this software?\"\n",
    "   - **Prompt 3:** \"Interesting! Considering the design, how would you implement the backend functionality of the software?\"\n",
    "   - **Prompt 4:** \"Final step! How would you conduct testing and ensure the software meets quality standards?\"\n",
    "\n",
    "In these examples, each prompt in the chain contributes to a larger narrative, allowing the model or individual to build upon their previous responses and create a more detailed and comprehensive output.\n"
   ]
  },
  {
   "cell_type": "code",
   "execution_count": 8,
   "metadata": {},
   "outputs": [
    {
     "name": "stdout",
     "output_type": "stream",
     "text": [
      "Prompt:\n",
      "Imagine you're starting a new project, and you want to use Git for version control. How would you initiate a new Git repository locally and connect it to a remote repository, like on GitHub or GitLab?\n",
      "\n",
      "Response:\n",
      "To initiate a new Git repository locally and connect it to a remote repository like GitHub or GitLab, follow these steps:\n",
      "\n",
      "1. Open your terminal or command prompt.\n",
      "2. Navigate to the root directory of your project using the `cd` command.\n",
      "3. Initialize a new Git repository using the `git init` command. This command will create a new hidden `.git` folder, which holds all the Git-related files for version control.\n",
      "4. Create a new repository on GitHub or GitLab, without initializing it with a README or any other files if you haven't done so already.\n",
      "5. Copy the remote URL of your repository from GitHub or GitLab. Generally, you can find the URL by clicking on the \"Clone\" or \"Code\" button on the repository page.\n",
      "6. In your terminal or command prompt, add the remote repository using the `git remote add origin <remote-url>` command. Replace `<remote-url>` with the URL you copied in the previous step. For example, `git remote add origin https://github.com/your-username/your-repository.git`.\n",
      "7. Verify that the remote repository has been added successfully by running the `git remote -v` command. It will display the remote URL you just added.\n",
      "8. Commence your first commit by adding your files using the `git add .` command. The `.` is used to add all files. Alternatively, you can add specific files by replacing `.` with the file names.\n",
      "9. Commit your changes by running the `git commit -m \"Initial commit\"` command. Replace \"Initial commit\" with an appropriate commit message describing the changes you made.\n",
      "10. Push your local repository to the remote repository using the `git push -u origin master` command. This command pushes your commits to the \"master\" branch of the remote repository.\n",
      "11. If prompted, enter your GitHub or GitLab credentials to authenticate the push.\n",
      "12. Check your remote repository on GitHub or GitLab; it should now contain your project files.\n",
      "\n",
      "Congratulations! You have successfully initiated a new Git repository locally and connected it to a remote repository like GitHub or GitLab.\n",
      "\n",
      "-------------------------------------------------------------------\n",
      "\n",
      "Prompt:\n",
      "Great! Now that your project is underway, explain how you would use branching in Git. Describe a scenario where you'd create a new branch, make changes, and then merge it back into the main branch.\n",
      "\n",
      "Response:\n",
      "In Git, branching is a powerful feature that allows developers to work on different versions of a project simultaneously. Here's a scenario where branching in Git can be utilized effectively:\n",
      "\n",
      "Let's say we have a project with a main branch called \"master.\" Our team wants to add a new feature to the project that involves significant changes to the codebase. Rather than making these changes directly on the master branch, we can create a new branch specifically for this feature development.\n",
      "\n",
      "1. Create a new branch: We start by creating a new branch on Git, which will serve as a separate work environment. We can name it something like \"feature-xyz\" to reflect the specific feature we're working on. The new branch will be an exact copy of the current codebase at the time of creation.\n",
      "\n",
      "2. Switch to the new branch: Once the branch is created, we switch to it. This means that any changes we make will only affect this specific branch while leaving the master branch untouched.\n",
      "\n",
      "3. Make changes: In the new branch, we make all the necessary code modifications to implement the desired feature. These changes can include adding new files, modifying existing ones, or even deleting unnecessary code.\n",
      "\n",
      "4. Commit changes: After making the modifications, we commit the changes to the new branch. Each commit captures a specific set of changes with a descriptive message, creating a timeline of the branch's progress.\n",
      "\n",
      "5. Test and iterate: At this point, we can thoroughly test the feature's implementation in the new branch, run necessary tests, and fix any bugs or issues that may arise. This process can involve multiple commits as we iterate and refine the code.\n",
      "\n",
      "6. Merge back to master branch: Once the feature is fully developed, tested, and reviewed, we are ready to merge the changes back into the main branch (master). To do this, we switch back to the main branch, and using the merge command, we incorporate the feature-xyz branch's changes into the master branch.\n",
      "\n",
      "7. Resolve conflicts (if any): While merging, conflicts may occur if changes were made to the same code sections in both the feature branch and the main branch. In such cases, Git will prompt us to resolve these conflicts manually by reviewing and modifying the conflicting code in a way that integrates both sets of changes appropriately.\n",
      "\n",
      "8. Complete the merge: After resolving conflicts, we finalize the merge, bringing the changes from the feature branch into the master branch. The commit history of the feature branch will also be included in the master branch.\n",
      "\n",
      "9. Continue development: With the feature now merged into the main branch, other team members can pull the latest changes from \"master\" and continue working on the project, ensuring that the newest functionality is incorporated into their work.\n",
      "\n",
      "By using branching in Git and following this process, teams can work on concurrent features or bug fixes in a controlled and isolated manner, reducing the risk of code conflicts and ensuring a smooth integration of changes into the main branch.\n",
      "\n",
      "-------------------------------------------------------------------\n",
      "\n",
      "Prompt:\n",
      "Excellent branching strategy! In a collaborative environment, discuss how you would handle conflicts when merging branches. Additionally, explain the process of creating and managing a pull request for code review and integration.\n",
      "\n",
      "Response:\n",
      "In a collaborative environment, conflicts when merging branches are bound to happen due to simultaneous development efforts by multiple team members. Handling these conflicts effectively is crucial to ensure smooth integration and maintain code quality. Here's a suggested approach to managing conflicts and creating pull requests for code review and integration:\n",
      "\n",
      "1. Communication and Collaboration:\n",
      "Encourage open and frequent communication among team members. Establish clear guidelines for when and how often each team member should merge their branch into the main branch to minimize conflicts.\n",
      "\n",
      "2. Regular code reviews:\n",
      "Promote a culture of regular code reviews. Having team members review each other's code before merging helps in identifying potential conflicts early on. It also serves as an opportunity for knowledge sharing and maintaining code quality standards.\n",
      "\n",
      "3. Automated Testing and Continuous Integration:\n",
      "Utilize an automated testing framework and continuous integration (CI) tools like Jenkins or Travis CI. These tools check for errors, run test cases, and build the application. Automated testing ensures code changes are thoroughly verified, reducing the chances of conflicts during merging.\n",
      "\n",
      "4. Identifying Conflicts:\n",
      "Before merging branches, ensure that all the latest changes from the main branch are pulled into the feature branch. This step helps identify any potential conflicts early. Additionally, consistent branching patterns (such as feature branches based on the latest main branch) can minimize conflicts.\n",
      "\n",
      "5. Resolving Conflicts:\n",
      "When conflicts arise, assign the responsibility to the developer who made the conflicting changes. They will be most familiar with the context and can easily resolve the conflicted code. Alternatively, assign an impartial team member, such as a technical lead, to resolve conflicts.\n",
      "\n",
      "6. Manual Code Review:\n",
      "Once conflicts are resolved, initiate a manual code review process. This review ensures that the changes made to resolve conflicts are correct and don't introduce new issues.\n",
      "\n",
      "Process of creating and managing a pull request for code review and integration:\n",
      "\n",
      "1. Create a Pull Request:\n",
      "When development on a branch is ready for review and integration, the developer creates a pull request (PR). This involves pushing their branch to the remote repository and opening a PR in the version control system (e.g., GitHub, GitLab).\n",
      "\n",
      "2. Set PR Title and Description:\n",
      "The developer provides a descriptive title and description for the PR, explaining the changes made, the purpose, and any associated ticket numbers or documentation.\n",
      "\n",
      "3. Reviewers Assigned:\n",
      "The PR creator assigns reviewers who will examine the code and provide feedback. These reviewers can be specific individuals or assigned through a team rotation.\n",
      "\n",
      "4. Code Review Process:\n",
      "Reviewers examine the changes in the PR, provide comments, suggest improvements, and may request modifications. The author of the PR should respond to comments and address them as required.\n",
      "\n",
      "5. Continuous Integration Checks:\n",
      "Configure CI tools to automatically build and test the changes included in the PR. The results of these checks help ensure that the code meets quality standards and doesn't break existing functionality.\n",
      "\n",
      "6. Completing the PR:\n",
      "Once the code is reviewed and approved, the PR creator can merge the branch into the main branch, deploying the changes to production or staging environments.\n",
      "\n",
      "By following these practices, conflicts can be handled effectively, code can be reviewed and integrated smoothly, and the overall development process can be more efficient in a collaborative environment.\n"
     ]
    }
   ],
   "source": [
    "text_prompt = \"Imagine you're starting a new project, and you want to use Git for version control. How would you initiate a new Git repository locally and connect it to a remote repository, like on GitHub or GitLab?\"\n",
    "output_text = query(text_prompt)\n",
    "print(\"Prompt:\")\n",
    "print(text_prompt)\n",
    "print(\"\\nResponse:\")\n",
    "print(output_text)\n",
    "\n",
    "print(\"\\n-------------------------------------------------------------------\\n\")\n",
    "\n",
    "text_prompt = \"Great! Now that your project is underway, explain how you would use branching in Git. Describe a scenario where you'd create a new branch, make changes, and then merge it back into the main branch.\"\n",
    "output_text = query(text_prompt)\n",
    "print(\"Prompt:\")\n",
    "print(text_prompt)\n",
    "print(\"\\nResponse:\")\n",
    "print(output_text)\n",
    "\n",
    "print(\"\\n-------------------------------------------------------------------\\n\")\n",
    "\n",
    "text_prompt = \"Excellent branching strategy! In a collaborative environment, discuss how you would handle conflicts when merging branches. Additionally, explain the process of creating and managing a pull request for code review and integration.\"\n",
    "output_text = query(text_prompt)\n",
    "print(\"Prompt:\")\n",
    "print(text_prompt)\n",
    "print(\"\\nResponse:\")\n",
    "print(output_text)"
   ]
  },
  {
   "cell_type": "markdown",
   "metadata": {},
   "source": [
    "## 7. Tree of Thoughts"
   ]
  },
  {
   "cell_type": "markdown",
   "metadata": {},
   "source": [
    "## 8. Retrieval Augmented Generation"
   ]
  },
  {
   "cell_type": "markdown",
   "metadata": {},
   "source": [
    "## 9. Automatic Reasoning Tool-use"
   ]
  },
  {
   "cell_type": "markdown",
   "metadata": {},
   "source": [
    "## 10. Automatic Prompt Engineer"
   ]
  },
  {
   "cell_type": "markdown",
   "metadata": {},
   "source": [
    "## 11. Active-Prompt"
   ]
  },
  {
   "cell_type": "markdown",
   "metadata": {},
   "source": [
    "## 12. Direct Stimulus"
   ]
  },
  {
   "cell_type": "markdown",
   "metadata": {},
   "source": [
    "## 13. Program-Aided Language"
   ]
  },
  {
   "cell_type": "markdown",
   "metadata": {},
   "source": [
    "## 14. ReAct"
   ]
  },
  {
   "cell_type": "markdown",
   "metadata": {},
   "source": [
    "## 15. Multimodal Chain-of-Thought"
   ]
  },
  {
   "cell_type": "markdown",
   "metadata": {},
   "source": [
    "## 16. Graph"
   ]
  }
 ],
 "metadata": {
  "kernelspec": {
   "display_name": "prompt_engineering",
   "language": "python",
   "name": "python3"
  },
  "language_info": {
   "codemirror_mode": {
    "name": "ipython",
    "version": 3
   },
   "file_extension": ".py",
   "mimetype": "text/x-python",
   "name": "python",
   "nbconvert_exporter": "python",
   "pygments_lexer": "ipython3",
   "version": "3.12.1"
  }
 },
 "nbformat": 4,
 "nbformat_minor": 2
}
