{
 "cells": [
  {
   "cell_type": "markdown",
   "metadata": {},
   "source": [
    "# Prompting Techniques"
   ]
  },
  {
   "cell_type": "code",
   "execution_count": 2,
   "metadata": {},
   "outputs": [
    {
     "name": "stdout",
     "output_type": "stream",
     "text": [
      "gpt-3.5-turbo\n"
     ]
    }
   ],
   "source": [
    "import os\n",
    "import requests\n",
    "\n",
    "API_KEY = os.environ.get(\"OPENAI_API_KEY\")\n",
    "MODEL = os.environ.get(\"OPENAI_MODEL\")\n",
    "\n",
    "if not API_KEY or not MODEL:\n",
    "    raise Exception(\"Environment variables OPENAI_API_KEY and OPENAI_MODEL must be set.\")\n",
    "\n",
    "API_URL = f\"https://api.openai.com/v1/chat/completions\"\n",
    "print(MODEL)\n",
    "\n",
    "headers = {\n",
    "  \"Authorization\": f\"Bearer {API_KEY}\",\n",
    "  \"Content-Type\": \"application/json\"\n",
    "}\n",
    "\n",
    "def query(prompt):\n",
    "  request_json = {\n",
    "    \"model\": MODEL,\n",
    "    \"messages\": [\n",
    "      {\n",
    "        \"role\": \"user\",\n",
    "        \"content\": prompt\n",
    "      }\n",
    "    ]\n",
    "  }\n",
    "\n",
    "  response = requests.post(API_URL, headers=headers, json=request_json)\n",
    "  response_json = response.json()\n",
    "  # print(response_json)\n",
    "  return response_json[\"choices\"][0][\"message\"][\"content\"]"
   ]
  },
  {
   "cell_type": "markdown",
   "metadata": {},
   "source": [
    "## 1. Zero-Shot"
   ]
  },
  {
   "cell_type": "markdown",
   "metadata": {},
   "source": [
    "**Zero-shot prompting** is similar to asking a really clever robot to answer a question it's never heard before, without showing it any examples or teaching it about that specific question beforehand. It's like a test to see how well the robot can understand and figure things out on its own without getting a direct lesson on a particular topic.\n",
    "\n",
    "**Examples:**\n",
    "- **Question:** \"What is the capital of France?\" \n",
    "  - **Answer:** Paris\n",
    "- **Question:** \"Who is the president of the United States?\" \n",
    "  - **Answer:** Joe Biden\n",
    "\n",
    "In zero-shot prompting, the robot relies on what it already knows and its ability to make logical connections to provide accurate answers to new and unfamiliar questions, even if it hasn't been specifically trained on those questions before.\n"
   ]
  },
  {
   "cell_type": "code",
   "execution_count": 3,
   "metadata": {},
   "outputs": [
    {
     "name": "stdout",
     "output_type": "stream",
     "text": [
      "As of November 2021, the President of the United States is Joe Biden.\n"
     ]
    }
   ],
   "source": [
    "text_prompt = \"Who is the president of the United States?\"\n",
    "\n",
    "output_text = query(text_prompt)\n",
    "\n",
    "print(output_text)"
   ]
  },
  {
   "cell_type": "markdown",
   "metadata": {},
   "source": [
    "## 2. Few-Shot"
   ]
  },
  {
   "cell_type": "markdown",
   "metadata": {},
   "source": [
    "**Few-shot prompting** involves giving the model a bit of context or examples to aid its understanding of a task. Let's take an example where the model needs to answer questions about adding and subtracting numbers. The few-shot prompt could be structured like this:\n",
    "\n",
    "**Example 1: Cat Sounds**\n",
    "  - **Context:** Cats are small, furry animals that people often keep as pets.\n",
    "  - **Question:** What sound do cats make?\n",
    "  - **Answer:** Meow\n",
    "\n",
    "**Example 2: Arithmetic**\n",
    "  - **Context:**\n",
    "    1. 2 + 3 = 5\n",
    "    2. 8 - 4 = 4\n",
    "  - **Question:** What is the result of 6 + 2?\n",
    "  - **Answer:** 8\n",
    "\n",
    "In few-shot prompting, the model receives a small \"shot\" of information to enhance its ability to understand and answer questions accurately, even on topics it hasn't been extensively trained on."
   ]
  },
  {
   "cell_type": "code",
   "execution_count": 4,
   "metadata": {},
   "outputs": [
    {
     "name": "stdout",
     "output_type": "stream",
     "text": [
      "Roses are red.\n"
     ]
    }
   ],
   "source": [
    "text_prompt = \"\"\"\n",
    "**Context:**\n",
    "  - Roses are red.\n",
    "  - The sky is blue.\n",
    "  - Leaves are typically green.\n",
    "\n",
    "**Question: **What color are roses?\n",
    "\"\"\"\n",
    "\n",
    "output_text = query(text_prompt)\n",
    "print(output_text)"
   ]
  },
  {
   "cell_type": "markdown",
   "metadata": {},
   "source": [
    "## 3. Chain-of-Thought"
   ]
  },
  {
   "cell_type": "markdown",
   "metadata": {},
   "source": [
    "**Chain-of-Thought prompting** involves guiding the model through a sequence of related prompts to generate a coherent and extended response. It's like having a conversation where each prompt builds upon the previous one. Let's explore this concept with examples:\n",
    "\n",
    "### Example 1: Planning a Trip\n",
    "\n",
    "**Prompt 1:**\n",
    "- **User:** \"Imagine you're planning a trip to a tropical island. What would be the first thing you consider?\"\n",
    "- **Model Response:** \"I would probably check the weather to ensure it's suitable for a beach vacation.\"\n",
    "\n",
    "**Prompt 2:**\n",
    "- **User:** \"Great! So, if the weather is sunny, what would be your next consideration?\"\n",
    "- **Model Response:** \"In that case, I would look for suitable beach activities like snorkeling and sunbathing.\"\n",
    "\n",
    "**Prompt 3:**\n",
    "- **User:** \"Nice! Now, after deciding on beach activities, what's the next step in planning your trip?\"\n",
    "- **Model Response:** \"I would search for accommodation near the beach to make it convenient for our planned activities.\"\n",
    "\n",
    "**Prompt 4:**\n",
    "- **User:** \"Excellent! Once you have accommodation sorted, what's the final thing you'd think about before going on the trip?\"\n",
    "- **Model Response:** \"The last step would be packing essentials like sunscreen, swimwear, and other travel necessities.\"\n",
    "\n",
    "In this Chain-of-Thought Prompting example, each prompt builds on the previous one, creating a logical progression in planning a tropical island trip. The model's responses are shaped by the context established in earlier prompts, resulting in a coherent and connected chain of thought.\n",
    "\n",
    "### Example 2: Crafting a Story\n",
    "\n",
    "**Prompt 1:**\n",
    "- **User:** \"Imagine you're a writer starting a new story. What's the initial idea or theme you want to explore?\"\n",
    "- **Model Response:** \"I'd like to delve into a world where advanced technology coexists with nature, sparking a conflict between progress and environmental preservation.\"\n",
    "\n",
    "**Prompt 2:**\n",
    "- **User:** \"Interesting! In this world, how would you introduce the main characters?\"\n",
    "- **Model Response:** \"I envision two protagonists – a tech-savvy inventor determined to push boundaries and a passionate environmentalist striving to protect the natural order.\"\n",
    "\n",
    "**Prompt 3:**\n",
    "- **User:** \"Nice characters! Now, what challenges do they face in your story?\"\n",
    "- **Model Response:** \"The inventor faces moral dilemmas regarding the consequences of technological advancements, while the environmentalist grapples with finding a balance between progress and preservation.\"\n",
    "\n",
    "**Prompt 4:**\n",
    "- **User:** \"Compelling conflicts! How do you envision the resolution or conclusion of your story?\"\n",
    "- **Model Response:** \"I see the characters realizing the need for collaboration, combining technology and nature harmoniously to overcome challenges and create a sustainable future.\"\n",
    "\n",
    "In this Chain-of-Thought Prompting example, the prompts guide the model through the process of creating a story with a thought-out theme, characters, conflicts, and resolution. Each prompt builds on the previous one, resulting in a coherent and extended response that forms a chain of thought in crafting a fictional narrative.\n"
   ]
  },
  {
   "cell_type": "code",
   "execution_count": 8,
   "metadata": {},
   "outputs": [
    {
     "name": "stdout",
     "output_type": "stream",
     "text": [
      "Prompt:\n",
      "Imagine you're planning your dream treehouse. What's the first cool thing you'd want in it?\n",
      "\n",
      "Response:\n",
      "The first cool thing I'd want in my dream treehouse would be a spiral slide. Imagine climbing up to the top of the treehouse and then sliding down in a thrilling spiral descent, surrounded by the beauty of nature. It would add an element of fun and adventure to the treehouse experience right from the start.\n",
      "-------------------------------------------------------------------\n",
      "\n",
      "Prompt:\n",
      "Awesome idea! Now, if your treehouse has that cool thing, what's the next fun feature you'd add?\n",
      "\n",
      "Response:\n",
      "Thank you! After adding the cool thing, the next fun feature I would add to the treehouse is a zip line. Imagine zooming through the air, gliding from the treehouse to another point in the backyard or surrounding area. It would create an exhilarating and adventurous experience for anyone visiting the treehouse. The zip line could be integrated with the treehouse structure, starting from a high point and gracefully descending to a landing platform or another elevated spot nearby. It would definitely add an extra level of excitement and entertainment to the treehouse, making it an absolute hit among friends and family!\n",
      "-------------------------------------------------------------------\n",
      "\n",
      "Prompt:\n",
      "Great additions! With those features, how would you make your treehouse the ultimate play space?\n",
      "\n",
      "Response:\n",
      "Thank you! To make my treehouse the ultimate play space, I would incorporate the following elements:\n",
      "\n",
      "1. Adventure Bridge: Installing a thrilling suspension bridge leading up to the treehouse would add an element of excitement and adventure. The wobbly nature of the bridge would make it feel like crossing a treacherous terrain.\n",
      "\n",
      "2. Rock Climbing Wall: Introducing a rock climbing wall on one side of the treehouse will provide a fun and challenging activity for children. The wall could have different difficulty levels, allowing kids to progress from beginners to advanced climbers.\n",
      "\n",
      "3. Zipline: Installing a zipline from the treehouse to the ground would provide an exhilarating way to enter or exit the play space. It would add an element of speed and thrill, making it an instant favorite.\n",
      "\n",
      "4. Treehouse Hammocks: Including hammocks within the treehouse would create a cozy and relaxing space for kids to unwind and enjoy the outdoors. They could choose to sway gently in the breeze, read a book, or simply daydream.\n",
      "\n",
      "5. Secret Passageways: Building hidden entrances and secret passageways within the treehouse would add an element of mystery and fun. Kids could discover hidden compartments, trapdoors, or secret tunnels, stimulating their imagination and creating an atmosphere of adventure.\n",
      "\n",
      "6. Water Slide: Integrating a water slide from the treehouse to a pool or landing area below would offer a refreshing and exciting way to exit the play space. Kids can cool off during hot summer days while enjoying an adrenaline-pumping descent.\n",
      "\n",
      "7. Observation Deck: Adding an observation deck at the top of the treehouse would provide a panoramic view of the surrounding environment. Kids could use binoculars or telescopes to explore the landscape, watch nature, or spot nearby wildlife.\n",
      "\n",
      "8. Outdoor Cinema: Creating a small outdoor cinema area within the treehouse with a projector, screen, and comfortable seating would allow for movie nights or gaming sessions. This feature would offer a unique and entertaining experience, especially during evenings or sleepovers.\n",
      "\n",
      "9. Climbing Nets: Incorporating climbing nets or rope structures within the treehouse design would provide additional opportunities for kids to challenge themselves physically and have hours of active fun.\n",
      "\n",
      "10. Adjustable Swings: Installing swings with adjustable heights and styles would appeal to children of different ages and preferences. Whether it's traditional swings, tire swings, or hanging chairs, everyone can find their favorite way to swing and enjoy the treehouse experience.\n",
      "\n",
      "By incorporating these features, my treehouse would become the ultimate play space, offering a mix of adventure, creativity, relaxation, and entertainment for kids of all ages.\n"
     ]
    }
   ],
   "source": [
    "text_prompt = \"Imagine you're planning your dream treehouse. What's the first cool thing you'd want in it?\"\n",
    "output_text = query(text_prompt)\n",
    "print(\"Prompt:\")\n",
    "print(text_prompt)\n",
    "print(\"\\nResponse:\")\n",
    "print(output_text)\n",
    "\n",
    "print(\"\\n-------------------------------------------------------------------\\n\")\n",
    "\n",
    "text_prompt = \"Awesome idea! Now, if your treehouse has that cool thing, what's the next fun feature you'd add?\"\n",
    "output_text = query(text_prompt)\n",
    "print(\"Prompt:\")\n",
    "print(text_prompt)\n",
    "print(\"\\nResponse:\")\n",
    "print(output_text)\n",
    "\n",
    "print(\"\\n-------------------------------------------------------------------\\n\")\n",
    "\n",
    "text_prompt = \"Great additions! With those features, how would you make your treehouse the ultimate play space?\"\n",
    "output_text = query(text_prompt)\n",
    "print(\"Prompt:\")\n",
    "print(text_prompt)\n",
    "print(\"\\nResponse:\")\n",
    "print(output_text)"
   ]
  },
  {
   "cell_type": "markdown",
   "metadata": {},
   "source": [
    "## 4. Self-Consistency"
   ]
  },
  {
   "cell_type": "markdown",
   "metadata": {},
   "source": [
    "**Self-Consistency Prompting** is a technique designed to elicit responses that align with predefined principles or beliefs, fostering internal coherence in reasoning or behavior.\n",
    "\n",
    "### Scenario 1: Decision Making\n",
    "\n",
    "**Prompt:**\n",
    "\"You've mentioned earlier that you prioritize environmental sustainability. Given that, how do you reconcile your decision to use single-use plastic in this scenario?\"\n",
    "\n",
    "**Answer:**\n",
    "\"I recognize the inconsistency in using single-use plastic despite prioritizing environmental sustainability. In this specific instance, my decision may be influenced by convenience or limited alternatives. However, I'm actively exploring more sustainable options and aiming to reduce reliance on single-use plastics in the future.\"\n",
    "\n",
    "### Scenario 2: Incremental Accumulation\n",
    "\n",
    "**Prompt:**\n",
    "Q1: Laura has 14 books on her shelf. Over the weekend, she buys three new books each day. How many books does she have by the end of the weekend?\n",
    "\n",
    "A1: Laura starts with 14 books. She buys 3 books each day for two days, so she adds 3 * 2 = 6 books. After the weekend, Laura has 14 + 6 = 20 books.\n",
    "\n",
    "Q2: In a garden, there are 12 rose bushes. Every week, four more rose bushes are planted. How many rose bushes will be there after three weeks?\n",
    "\n",
    "A2: Starting with 12 rose bushes, each week adds 4 bushes. After three weeks, the total number of rose bushes will be 12 + (4 * 3) = 24.\n",
    "\n",
    "Q3: Ethan has $40. He spends $8 each day on lunch for five days. How much money does he have left after the five days?\n",
    "\n",
    "**Answer:**\n",
    "A3: Ethan begins with $40. He spends $8 each day for five days, so he subtracts 8 * 5 = $40 from his initial amount. After the five days, Ethan has $0 remaining.\n",
    "\n",
    "In these examples, the prompts guide the individual or system to ensure that their responses align with previously stated beliefs or principles, fostering self-consistency in their reasoning or decision-making.\n"
   ]
  },
  {
   "cell_type": "code",
   "execution_count": 9,
   "metadata": {},
   "outputs": [
    {
     "name": "stdout",
     "output_type": "stream",
     "text": [
      "Olivia spent 5 * $3 = $<<5*3=15>>15 on bagels.\n",
      "She had $23 - $15 = $8 left.\n",
      "The answer is $8.\n"
     ]
    }
   ],
   "source": [
    "text_prompt = \"\"\"\n",
    "Q: Shawn has five toys. For Christmas, he got two toys each from his mom and dad. How many toys does\n",
    "he have now?\n",
    "A: He has 5 toys. He got 2 from mom, so after that he has 5 + 2 = 7 toys. Then he got 2 more from dad, so\n",
    "in total he has 7 + 2 = 9 toys. The answer is 9.\n",
    "Q: There were nine computers in the server room. Five more computers were installed each day, from\n",
    "monday to thursday. How many computers are now in the server room?\n",
    "A: There are 4 days from monday to thursday. 5 computers were added each day. That means in total 4 * 5 =\n",
    "20 computers were added. There were 9 computers in the beginning, so now there are 9 + 20 = 29 computers.\n",
    "The answer is 29.\n",
    "Q: Olivia has $23. She bought five bagels for $3 each. How much money does she have left?\n",
    "A:\n",
    "\"\"\"\n",
    "\n",
    "output_text = query(text_prompt)\n",
    "print(output_text)"
   ]
  },
  {
   "cell_type": "markdown",
   "metadata": {},
   "source": [
    "## 5. General Knowledge"
   ]
  },
  {
   "cell_type": "markdown",
   "metadata": {},
   "source": [
    "## 6. Prompt Chaining"
   ]
  },
  {
   "cell_type": "markdown",
   "metadata": {},
   "source": [
    "## 7. Tree of Thoughts"
   ]
  },
  {
   "cell_type": "markdown",
   "metadata": {},
   "source": [
    "## 8. Retrieval Augmented Generation"
   ]
  },
  {
   "cell_type": "markdown",
   "metadata": {},
   "source": [
    "## 9. Automatic Reasoning Tool-use"
   ]
  },
  {
   "cell_type": "markdown",
   "metadata": {},
   "source": [
    "## 10. Automatic Prompt Engineer"
   ]
  },
  {
   "cell_type": "markdown",
   "metadata": {},
   "source": [
    "## 11. Active-Prompt"
   ]
  },
  {
   "cell_type": "markdown",
   "metadata": {},
   "source": [
    "## 12. Direct Stimulus"
   ]
  },
  {
   "cell_type": "markdown",
   "metadata": {},
   "source": [
    "## 13. Program-Aided Language"
   ]
  },
  {
   "cell_type": "markdown",
   "metadata": {},
   "source": [
    "## 14. ReAct"
   ]
  },
  {
   "cell_type": "markdown",
   "metadata": {},
   "source": [
    "## 15. Multimodal Chain-of-Thought"
   ]
  },
  {
   "cell_type": "markdown",
   "metadata": {},
   "source": [
    "## 16. Graph"
   ]
  }
 ],
 "metadata": {
  "kernelspec": {
   "display_name": "prompt_engineering",
   "language": "python",
   "name": "python3"
  },
  "language_info": {
   "codemirror_mode": {
    "name": "ipython",
    "version": 3
   },
   "file_extension": ".py",
   "mimetype": "text/x-python",
   "name": "python",
   "nbconvert_exporter": "python",
   "pygments_lexer": "ipython3",
   "version": "3.12.1"
  }
 },
 "nbformat": 4,
 "nbformat_minor": 2
}
